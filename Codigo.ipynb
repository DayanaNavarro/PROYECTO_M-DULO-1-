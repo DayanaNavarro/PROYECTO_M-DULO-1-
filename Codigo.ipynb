{
 "cells": [
  {
   "cell_type": "markdown",
   "metadata": {},
   "source": [
    "# Proyecto de optimizacion en la inversión de CETES\n",
    "\n",
    "## Objetivos\n",
    "\n",
    "> ### General\n",
    "+ Encontrar el mayor rendimiento de inversión, comprando tasas y plazos en distintos bonos y cetes\n",
    "\n",
    "> ### Específicos\n",
    "+ Obtener el rendimiento máximo utilizando optimización \n",
    "+ Encontrar una función objetivo optimizada que nos muestre los mejores puntos de inversion y la ganancia total\n",
    "\n",
    "## Modelo que representa el problema\n",
    "\n",
    "Un inversionesta cuenta con 3´000,000 de pesos y los quiere meter a CETES, en la página oficial del [Banco de México](https://www.banxico.org.mx/dyn/) el 30 de septiembre encontró que la oferta de CETES es la siguiente.\n",
    "\n",
    "+ 28 días con una tasa del 7.61% se asignó una oferta de 6,000 CETES\n",
    " \n",
    "+ 91 días con una tasa del 7.59% se asignó una oferta de 11,000 CETES\n",
    " \n",
    "+ 182 días con una tasa del 7.45% se asignó una oferta de 13,000 CETES\n",
    "\n",
    "+ 336 días con una tasa del 7.39% se asignó una oferta de 14,500 CETES\n",
    "     \n",
    "Con los datos anteriores, se busca maximizar el rendimiento del inversionista, siempre y cuando su inversión en algún CETE sea menor al 50%\n",
    "\n",
    "Sabemos que los CETES tienen un valor nominal de 10 pesos MX, si queremos saber cual es el precio de cada CETE tenemos la siguite formula de valor presente:\n",
    "     \n",
    " $$10/(Plazo/360)tasa+1$$\n",
    "     \n",
    "Entonces sacamos el precio de cada CETE y tenemos que:\n",
    "\n",
    "+ CETES a 28 dias = $9.9412\n",
    "\n",
    "+ CETES a 91 dias = $9.8118\n",
    "     \n",
    "+ CETES a 182 dias = $9.6370\n",
    "     \n",
    "+ CETES a 336 dias = $9.3548\n",
    " "
   ]
  },
  {
   "cell_type": "markdown",
   "metadata": {},
   "source": [
    "### Función objetivo\n",
    "Nuestro inversionista desea invertir en CETES, y Banxico le ofrece 4 tipos dependiendo del plazo y tasa de rendimiento, que ya sabemos, entonces tenemos que:\n",
    "$$\\max_{x_1,\\cdots,x_4} 9.94x_1+9.81x_2+9.63x_3+9.35x_4$$"
   ]
  },
  {
   "cell_type": "markdown",
   "metadata": {},
   "source": [
    "### Restricciones\n",
    "El problema nos dice que el inversionista cuenta con solo 3´000,000 MX para los 4 tipos de CETES entonces:\n",
    "\n",
    "$$9.94x_1+9.81x_2+9.63x_3+9.35x_4\\leq 3´000,000$$\n",
    "\n",
    "Tambien nos dice que se puede invertir solo hasta el 50% del capital en un solo CETE, entonces podemos decir que:\n",
    "\n",
    "$$x_1\\leq 1´500,000$$\n",
    "$$x_2\\leq 1´500,000$$\n",
    "$$x_3\\leq 1´500,000$$\n",
    "$$x_4\\leq 1´500,000$$\n",
    "\n",
    "Por otro lado el Banco de México oferta solo sierta cantidad de CETES, es decir, existe un máximo de inversiones, podemos decir que:\n",
    "\n",
    "$$x_1\\leq 6,000$$\n",
    "$$x_2\\leq 11,000$$\n",
    "$$x_3\\leq 13,000$$\n",
    "$$x_4\\leq 14,500$$\n"
   ]
  },
  {
   "cell_type": "markdown",
   "metadata": {},
   "source": [
    "### Forma matricial\n",
    "\n",
    "- $\\boldsymbol{c}=\\left[-9.94\\quad -9.81\\quad -9.63\\quad-9.35\\right]^\\top$,\n",
    "\n",
    "\n",
    "- $\\boldsymbol{A}=\\left[\\begin{array}{cc}9.94 & 9.81 & 9.63 & 9.35\\\\9.94 & 0 & 0 & 0 \\\\0 & 9.81 & 0 & 0 \\\\ 0 & 0 & 9.63 & 0 \\\\ 0 & 0 & 0 & 9.35\\\\ 9.94 & 0 & 0 & 0 \\\\0 & 9.81 & 0 & 0 \\\\ 0 & 0 & 9.63 & 0 \\\\ 0 & 0 & 0 & 9.35\\end{array}\\right]$, y\n",
    "\n",
    "\n",
    "- $\\boldsymbol{b}=\\left[3´000,000\\quad 1´500,000\\quad 1´500,000\\quad 1´500,000\\quad 1´500,000\\quad 6,000\\quad 11,000\\quad 13,000\\quad 14,500\\right]^\\top$."
   ]
  },
  {
   "cell_type": "code",
   "execution_count": 1,
   "metadata": {},
   "outputs": [],
   "source": [
    "import numpy as np\n",
    "import scipy.optimize as opt"
   ]
  },
  {
   "cell_type": "code",
   "execution_count": 2,
   "metadata": {},
   "outputs": [],
   "source": [
    "c=np.array([[-9.94,-9.81,-9.63, -9.35]])\n",
    "\n",
    "A_ub=np.array([[9.94,0,0,0], [0,9.81,0,0],[0,0,9.63,0],[0,0,0,9.35]\n",
    "               ,[9.94,9.81,9.63,9.35],[9.94,0,0,0], [0,9.81,0,0],[0,0,9.63,0],[0,0,0,9.35]])\n",
    "b_ub=np.array([6000,11000,13000,14500,3000000,1500000,1500000,1500000,1500000])"
   ]
  },
  {
   "cell_type": "code",
   "execution_count": 3,
   "metadata": {},
   "outputs": [
    {
     "data": {
      "text/plain": [
       "     con: array([], dtype=float64)\n",
       "     fun: -44500.0\n",
       " message: 'Optimization terminated successfully.'\n",
       "     nit: 5\n",
       "   slack: array([0.0000000e+00, 0.0000000e+00, 1.8189894e-12, 1.8189894e-12,\n",
       "       2.9555000e+06, 1.4940000e+06, 1.4890000e+06, 1.4870000e+06,\n",
       "       1.4855000e+06])\n",
       "  status: 0\n",
       " success: True\n",
       "       x: array([ 603.62173038, 1121.30479103, 1349.94807892, 1550.80213904])"
      ]
     },
     "execution_count": 3,
     "metadata": {},
     "output_type": "execute_result"
    }
   ],
   "source": [
    "sol = opt.linprog(c,A_ub,b_ub)\n",
    "sol"
   ]
  },
  {
   "cell_type": "code",
   "execution_count": 4,
   "metadata": {},
   "outputs": [
    {
     "data": {
      "text/plain": [
       "array([ 603.62173038, 1121.30479103, 1349.94807892, 1550.80213904])"
      ]
     },
     "execution_count": 4,
     "metadata": {},
     "output_type": "execute_result"
    }
   ],
   "source": [
    "sol.x"
   ]
  },
  {
   "cell_type": "code",
   "execution_count": 5,
   "metadata": {},
   "outputs": [],
   "source": [
    "import matplotlib.pyplot as plt\n",
    "%matplotlib inline"
   ]
  },
  {
   "cell_type": "code",
   "execution_count": 20,
   "metadata": {},
   "outputs": [
    {
     "data": {
      "image/png": "[encoded data removed]",
      "text/plain": [
       "<Figure size 576x432 with 1 Axes>"
      ]
     },
     "metadata": {
      "needs_background": "light"
     },
     "output_type": "display_data"
    }
   ],
   "source": [
    "\n",
    "plt.figure(figsize=(8,6))\n",
    "plt.plot([28],[sol.x[0]],\"*y\",ms=17,label=\"CETES 28\")\n",
    "plt.plot([91],[sol.x[1]],\"*r\",ms=17,label=\"CETES 91\")\n",
    "plt.plot([182],[sol.x[2]],\"*b\",ms=17,label=\"CETES 182\")\n",
    "plt.plot([336],[sol.x[3]],\"*m\",ms=17,label=\"CETES 336\")\n",
    "\n",
    "plt.grid()\n",
    "plt.legend(loc=\"best\")\n",
    "plt.show()\n"
   ]
  },
  {
   "cell_type": "markdown",
   "metadata": {},
   "source": [
    "### Conclusión\n",
    "Para obtener el rendimiento maximo invirtiendo en CETES, el programa nos dice que se deben invertir en 603 CETES a 28 dias, 1121 CETES a 91 dias, 1349 CETES a 182 dias y 1550 CETES a 336 dias. De esta manera obtendremos una ganancia total de $44,500 pesos. Aunque parezca una ganancia muy pequeña ante nuestra inversión de 3'000,000, debido a que los CETES son bonos gubernamentales tienen riesgo y rendimiento mínimo."
   ]
  }
 ],
 "metadata": {
  "kernelspec": {
   "display_name": "Python 3",
   "language": "python",
   "name": "python3"
  },
  "language_info": {
   "codemirror_mode": {
    "name": "ipython",
    "version": 3
   },
   "file_extension": ".py",
   "mimetype": "text/x-python",
   "name": "python",
   "nbconvert_exporter": "python",
   "pygments_lexer": "ipython3",
   "version": "3.7.3"
  }
 },
 "nbformat": 4,
 "nbformat_minor": 2
}
